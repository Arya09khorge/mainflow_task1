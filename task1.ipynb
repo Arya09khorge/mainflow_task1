{
 "cells": [
  {
   "cell_type": "code",
   "execution_count": 1,
   "id": "2a5dca15-7732-499e-a94a-40b6574ac49f",
   "metadata": {},
   "outputs": [],
   "source": [
    "list1 = [23,25,27,29,69]"
   ]
  },
  {
   "cell_type": "code",
   "execution_count": 2,
   "id": "70520dea-6ed7-4706-bf06-ec6bc2e023a5",
   "metadata": {},
   "outputs": [],
   "source": [
    "#Adding list item"
   ]
  },
  {
   "cell_type": "code",
   "execution_count": 3,
   "id": "8e3e9bc2-e367-4c24-a92e-8b0581db0ce3",
   "metadata": {},
   "outputs": [
    {
     "name": "stdout",
     "output_type": "stream",
     "text": [
      "[23, 25, 27, 29, 69, 46]\n"
     ]
    }
   ],
   "source": [
    "list1.append(46)\n",
    "print(list1)"
   ]
  },
  {
   "cell_type": "code",
   "execution_count": 4,
   "id": "a1f58d3b-b620-4d4b-a5f4-777f55af75aa",
   "metadata": {},
   "outputs": [],
   "source": [
    "#Removing list item"
   ]
  },
  {
   "cell_type": "code",
   "execution_count": 5,
   "id": "650723ff-840a-409d-8189-265362be8535",
   "metadata": {},
   "outputs": [],
   "source": [
    "list1.remove(27)"
   ]
  },
  {
   "cell_type": "code",
   "execution_count": 6,
   "id": "2c6ba660-a6da-482b-87f6-1b0e909430d0",
   "metadata": {},
   "outputs": [
    {
     "name": "stdout",
     "output_type": "stream",
     "text": [
      "[23, 25, 29, 69, 46]\n"
     ]
    }
   ],
   "source": [
    "print(list1)"
   ]
  },
  {
   "cell_type": "code",
   "execution_count": 7,
   "id": "28cba7c5-294a-4aba-8301-5e2663a9d768",
   "metadata": {},
   "outputs": [],
   "source": [
    "#Acessing list item"
   ]
  },
  {
   "cell_type": "code",
   "execution_count": 9,
   "id": "9371674c-21d0-4f8f-9dc5-4848b18c47d0",
   "metadata": {},
   "outputs": [
    {
     "name": "stdout",
     "output_type": "stream",
     "text": [
      "29\n"
     ]
    }
   ],
   "source": [
    "print(list1[2])"
   ]
  },
  {
   "cell_type": "code",
   "execution_count": 10,
   "id": "19c9545c-9d17-4843-8705-1827fc2c403f",
   "metadata": {},
   "outputs": [],
   "source": [
    "dict1 = {\"brand\": \"Tata\",\"model\": \"Altroz\",\"year\": 2020}"
   ]
  },
  {
   "cell_type": "code",
   "execution_count": 11,
   "id": "c3f8cf11-d66f-4d5a-9708-d16a7bccd950",
   "metadata": {},
   "outputs": [],
   "source": [
    "#Accessing Dictionary Items"
   ]
  },
  {
   "cell_type": "code",
   "execution_count": 12,
   "id": "db7683da-2af2-4966-8338-64de75815119",
   "metadata": {},
   "outputs": [
    {
     "name": "stdout",
     "output_type": "stream",
     "text": [
      "Altroz\n"
     ]
    }
   ],
   "source": [
    "x = dict1[\"model\"]\n",
    "print(x)"
   ]
  },
  {
   "cell_type": "code",
   "execution_count": 13,
   "id": "a1e6aebc-1791-416c-a0a6-16744929f052",
   "metadata": {},
   "outputs": [],
   "source": [
    "#Change Dictionary Item"
   ]
  },
  {
   "cell_type": "code",
   "execution_count": 14,
   "id": "cc642bc4-7968-4785-9693-97f61abf68a0",
   "metadata": {},
   "outputs": [
    {
     "name": "stdout",
     "output_type": "stream",
     "text": [
      "{'brand': 'Tata', 'model': 'Altroz', 'year': 2019}\n"
     ]
    }
   ],
   "source": [
    "dict1[\"year\"] = 2019\n",
    "print(dict1)"
   ]
  },
  {
   "cell_type": "code",
   "execution_count": 15,
   "id": "b555489d-8a4b-4b5a-a605-6109fac0409c",
   "metadata": {},
   "outputs": [],
   "source": [
    "#Adding Items"
   ]
  },
  {
   "cell_type": "code",
   "execution_count": 16,
   "id": "d5754ea9-fd5c-4114-8f76-b4e40f8653dc",
   "metadata": {},
   "outputs": [
    {
     "name": "stdout",
     "output_type": "stream",
     "text": [
      "{'brand': 'Tata', 'model': 'Altroz', 'year': 2019, 'color': 'Red'}\n"
     ]
    }
   ],
   "source": [
    "dict1[\"color\"] = \"Red\"\n",
    "print(dict1)"
   ]
  },
  {
   "cell_type": "code",
   "execution_count": 17,
   "id": "a8e9a024-1745-4a3f-9a40-181678fb46a2",
   "metadata": {},
   "outputs": [],
   "source": [
    "#removing Items"
   ]
  },
  {
   "cell_type": "code",
   "execution_count": 18,
   "id": "b4ff5cdc-9811-422a-bc6a-b9bc42f106f3",
   "metadata": {},
   "outputs": [
    {
     "name": "stdout",
     "output_type": "stream",
     "text": [
      "{'brand': 'Tata', 'year': 2019, 'color': 'Red'}\n"
     ]
    }
   ],
   "source": [
    "dict1.pop(\"model\")\n",
    "print(dict1)"
   ]
  },
  {
   "cell_type": "code",
   "execution_count": 19,
   "id": "1b3e5ca6-c30f-46da-9a12-8aff5a219a9f",
   "metadata": {},
   "outputs": [],
   "source": [
    "my_set = {\"apple\", \"banana\", \"cherry\", \"pineapple\", \"grapes\"}"
   ]
  },
  {
   "cell_type": "code",
   "execution_count": 20,
   "id": "2c7fc703-1275-4926-90cc-1a1a35e9b9aa",
   "metadata": {},
   "outputs": [],
   "source": [
    "#Accessing items"
   ]
  },
  {
   "cell_type": "code",
   "execution_count": 21,
   "id": "82e7eb54-bf36-4d31-b0e8-d0f65c8625ab",
   "metadata": {},
   "outputs": [
    {
     "name": "stdout",
     "output_type": "stream",
     "text": [
      "grapes\n",
      "pineapple\n",
      "banana\n",
      "cherry\n",
      "apple\n"
     ]
    }
   ],
   "source": [
    "for x in my_set:\n",
    "    print(x)"
   ]
  },
  {
   "cell_type": "code",
   "execution_count": 22,
   "id": "ef9f2595-7fa9-4bb4-a04a-9eaea2f4a27b",
   "metadata": {},
   "outputs": [],
   "source": [
    "#Adding items"
   ]
  },
  {
   "cell_type": "code",
   "execution_count": 23,
   "id": "a0b1d63d-4c91-4ef2-aaf3-2bb8ce005628",
   "metadata": {},
   "outputs": [
    {
     "name": "stdout",
     "output_type": "stream",
     "text": [
      "{'grapes', 'pineapple', 'banana', 'orange', 'mango', 'cherry', 'apple'}\n"
     ]
    }
   ],
   "source": [
    "my_set.add(\"orange\")\n",
    "my_set.add(\"mango\")\n",
    "print(my_set)"
   ]
  },
  {
   "cell_type": "code",
   "execution_count": 24,
   "id": "ec28c51e-2ee4-4a5e-bda8-1602e6c3ce98",
   "metadata": {},
   "outputs": [],
   "source": [
    "#Removing Items"
   ]
  },
  {
   "cell_type": "code",
   "execution_count": 25,
   "id": "a062d4fa-f40f-4a19-b244-82d9575f2ba0",
   "metadata": {},
   "outputs": [
    {
     "name": "stdout",
     "output_type": "stream",
     "text": [
      "{'grapes', 'pineapple', 'banana', 'orange', 'mango', 'apple'}\n"
     ]
    }
   ],
   "source": [
    "my_set.remove(\"cherry\")\n",
    "print(my_set)"
   ]
  },
  {
   "cell_type": "code",
   "execution_count": null,
   "id": "db34edad-ca1c-4f7e-9eff-711c0a62f7c2",
   "metadata": {},
   "outputs": [],
   "source": []
  }
 ],
 "metadata": {
  "kernelspec": {
   "display_name": "Python 3 (ipykernel)",
   "language": "python",
   "name": "python3"
  },
  "language_info": {
   "codemirror_mode": {
    "name": "ipython",
    "version": 3
   },
   "file_extension": ".py",
   "mimetype": "text/x-python",
   "name": "python",
   "nbconvert_exporter": "python",
   "pygments_lexer": "ipython3",
   "version": "3.12.1"
  }
 },
 "nbformat": 4,
 "nbformat_minor": 5
}
